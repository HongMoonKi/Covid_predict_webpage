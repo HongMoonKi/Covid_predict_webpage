{
 "cells": [
  {
   "cell_type": "code",
   "execution_count": 31,
   "id": "c8ba5686",
   "metadata": {},
   "outputs": [
    {
     "name": "stdout",
     "output_type": "stream",
     "text": [
      " * Serving Flask app \"__main__\" (lazy loading)\n",
      " * Environment: production\n",
      "   WARNING: This is a development server. Do not use it in a production deployment.\n",
      "   Use a production WSGI server instead.\n",
      " * Debug mode: off\n"
     ]
    },
    {
     "name": "stderr",
     "output_type": "stream",
     "text": [
      " * Running on http://127.0.0.1:5000/ (Press CTRL+C to quit)\n",
      "127.0.0.1 - - [30/Nov/2021 15:31:05] \"\u001b[37mGET / HTTP/1.1\u001b[0m\" 200 -\n",
      "127.0.0.1 - - [30/Nov/2021 15:31:05] \"\u001b[33mGET /seoul_map.gif HTTP/1.1\u001b[0m\" 404 -\n",
      "127.0.0.1 - - [30/Nov/2021 15:31:06] \"\u001b[37mPOST /result/ HTTP/1.1\u001b[0m\" 200 -\n",
      "127.0.0.1 - - [30/Nov/2021 15:31:18] \"\u001b[37mPOST /result/ HTTP/1.1\u001b[0m\" 200 -\n"
     ]
    }
   ],
   "source": [
    "from flask import Flask, request, render_template\n",
    "\n",
    "app = Flask(__name__)\n",
    "\n",
    "@app.route('/')\n",
    "def hello():\n",
    "    return render_template('index.html')\n",
    "\n",
    "@app.route('/result/', methods = ['POST', 'GET'])\n",
    "def result():\n",
    "    city_list = ['강서구','양천구','구로구','영등포구','금천구','동작구','관악구','서초구','강남구','송파구','강동구','은평구','서대문구','마포구','종로구','중구','용산구','성동구','광진구','동대문구','중랑구','노원구','도봉구','강북구','성북구']\n",
    "    if request.method == 'POST':\n",
    "        val = request.form['name']\n",
    "        if val not in city_list:\n",
    "            return render_template('error.html', index2 = val)\n",
    "        return render_template('result.html', index = val)\n",
    "    \n",
    "    return \"hello\"\n",
    "\n",
    "if __name__ == '__main__':\n",
    "    app.run()"
   ]
  },
  {
   "cell_type": "code",
   "execution_count": null,
   "id": "9fc34b62",
   "metadata": {},
   "outputs": [],
   "source": []
  }
 ],
 "metadata": {
  "kernelspec": {
   "display_name": "Python 3",
   "language": "python",
   "name": "python3"
  },
  "language_info": {
   "codemirror_mode": {
    "name": "ipython",
    "version": 3
   },
   "file_extension": ".py",
   "mimetype": "text/x-python",
   "name": "python",
   "nbconvert_exporter": "python",
   "pygments_lexer": "ipython3",
   "version": "3.8.8"
  }
 },
 "nbformat": 4,
 "nbformat_minor": 5
}
